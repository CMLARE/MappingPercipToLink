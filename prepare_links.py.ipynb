{
 "cells": [
  {
   "cell_type": "markdown",
   "metadata": {},
   "source": [
    "This will use following master files to create one master links file having following information.\n",
    "1. cell_tower_id1\n",
    "2. cell_tower_id2\n",
    "3. source1_name\n",
    "4. source2_name\n",
    "5. device_name_1\n",
    "6. device_name_2\n",
    "7. frequency1\n",
    "8. frequency2\n",
    "9. frequency_band\n",
    "10. latitude1\n",
    "11. longitude1\n",
    "12. latitude2\n",
    "13. longitude2\n",
    "14. district1\n",
    "15. district2\n",
    "\n",
    "Resources for this script would be as following\n",
    "1. link_frequency_csv - Link_Frequency.csv   #frequency of each link\n",
    "2. sites_list_csv - Dialog_Site_List.csv     #geolocation of the stations\n",
    "3. device_resource_csv - Device Resource.csv #To get the device name and resource name \n",
    "4. root_folder - root folder name where the above csv are stored. If they are in different places set it to ``\"\"`` and give the absolute paths.\n",
    "\n",
    "Set the paths for above files and script will produce the following file \n",
    "- links.csv - contains the details mentioned in first section\n",
    "\n",
    "**Before using the out put(links.csv) for the next stage, add id_1, id_2 values by hand. An autoincrementing two values are sufficient.**"
   ]
  },
  {
   "cell_type": "code",
   "execution_count": 123,
   "metadata": {},
   "outputs": [],
   "source": [
    "root_folder = \"/home/gayan/Desktop/CMLARE/Data/Master Files/\"\n",
    "link_frequency_csv = \"Link_Frequency.csv\"\n",
    "sites_list_csv = \"Dialog_Site_List.csv\"\n",
    "device_resource_csv = \"Device Resource.csv\"\n",
    "outputFileName = \"links.csv\""
   ]
  },
  {
   "cell_type": "code",
   "execution_count": 115,
   "metadata": {},
   "outputs": [],
   "source": [
    "link_frequency_csv = root_folder+link_frequency_csv\n",
    "sites_list_csv = root_folder+sites_list_csv\n",
    "device_resource_csv = root_folder + device_resource_csv"
   ]
  },
  {
   "cell_type": "code",
   "execution_count": 116,
   "metadata": {},
   "outputs": [],
   "source": [
    "import pandas as pd"
   ]
  },
  {
   "cell_type": "code",
   "execution_count": 117,
   "metadata": {
    "scrolled": true
   },
   "outputs": [
    {
     "name": "stdout",
     "output_type": "stream",
     "text": [
      "['Source NE Name', 'Sink NE Name', 'Source NE Frequency (MHz)', 'Sink NE Frequency (MHz)', 'Band']\n",
      "['Suntel ID', 'Site Name', 'Site Address', 'District', 'Province', 'Latitude-x', 'Longitude-x', 'Latitude', 'Longitude']\n",
      "['DeviceID', 'ResourceName']\n"
     ]
    }
   ],
   "source": [
    "#Loading data\n",
    "link_frequencies_df = pd.read_csv(link_frequency_csv)\n",
    "sites_locations_df = pd.read_csv(sites_list_csv,index_col=\"Site ID\")\n",
    "device_resources_df = pd.read_csv(device_resource_csv,index_col=\"DeviceName\")\n",
    "print(list(link_frequencies_df))\n",
    "print(list(sites_locations_df))\n",
    "print(list(device_resources_df))\n",
    "links =pd.DataFrame(columns=[\"cell_tower_id1\",\"cell_tower_id2\",\"source1_name\",\"source2_name\",\"device_name_1\",\"device_name_2\",\"frequency1\",\"frequency2\",\"frequency_band\",\"latitude1\",\"longitude1\",\"latitude2\",\"longitude2\",\"district1\",\"district2\"])"
   ]
  },
  {
   "cell_type": "code",
   "execution_count": 118,
   "metadata": {},
   "outputs": [],
   "source": [
    "#Map the Frequency with locations\n",
    "loc_device = pd.DataFrame(columns=[\"cell_tower_id1\",\"cell_tower_id2\",\"device_name_1\",\"device_name_2\",\"frequency1\",\"frequency2\",\"frequency_band\",\n",
    "                          \"latitude1\",\"longitude1\",\"latitude2\",\"longitude2\",\"district1\",\"district2\"])\n",
    "for index, row in link_frequencies_df.iterrows():\n",
    "    dev_1_name = row[\"Source NE Name\"]\n",
    "    dev_2_name = row[\"Sink NE Name\"]\n",
    "    cell_tower_id1 = dev_1_name.split(\"-\")[1].upper().strip()\n",
    "    cell_tower_id2 = dev_2_name.split(\"-\")[1].upper().strip()\n",
    "    site_loc1 = sites_locations_df.loc[cell_tower_id1]\n",
    "    site_loc2 = sites_locations_df.loc[cell_tower_id2]\n",
    "    loc_device.loc[index] = [cell_tower_id1,cell_tower_id2,dev_1_name,dev_2_name,row[\"Source NE Frequency (MHz)\"],\n",
    "                             row[\"Sink NE Frequency (MHz)\"],row[\"Band\"],site_loc1[\"Latitude\"],site_loc1[\"Longitude\"],\n",
    "                             site_loc2[\"Latitude\"],site_loc2[\"Longitude\"], site_loc1[\"District\"],site_loc2[\"District\"] ]\n",
    "    \n",
    "    "
   ]
  },
  {
   "cell_type": "code",
   "execution_count": 119,
   "metadata": {
    "scrolled": false
   },
   "outputs": [],
   "source": [
    "#Similar to joining in database tables, left Outer joining depending on the Device Name with the above computed loc_device and remove nulls\n",
    "left_device_resources_df = device_resources_df.rename(columns={\"ResourceName\":\"source1_name\"})\n",
    "leftMerge = left_device_resources_df.merge(loc_device,left_on=\"DeviceName\",right_on=\"device_name_1\",how=\"left\")\n",
    "npDropLeftMerge = leftMerge.dropna()\n",
    "#     device2 = loc_device..loc[loc_device[\"device_name_2\"]==index]"
   ]
  },
  {
   "cell_type": "code",
   "execution_count": 120,
   "metadata": {
    "scrolled": true
   },
   "outputs": [],
   "source": [
    "#Rejoin the device resources from above output to get the device 2 name set. Need to remove the number mismatiching links from this\n",
    "right_device_resources_df = device_resources_df.rename(columns={\"ResourceName\":\"source2_name\"})\n",
    "rightMerge = leftMerge.merge(right_device_resources_df,left_on=\"device_name_2\",right_on=\"DeviceName\",how=\"right\")\n",
    "npDropRightMerge = rightMerge.dropna()\n",
    "names_re_orderd = npDropRightMerge[[\"source1_name\",\"source2_name\",\"cell_tower_id1\",\"cell_tower_id2\",\"device_name_1\",\"device_name_2\",\"frequency1\",\"frequency2\",\"frequency_band\",\"latitude1\",\"longitude1\",\"latitude2\",\"longitude2\",\"district1\",\"district2\"]]"
   ]
  },
  {
   "cell_type": "code",
   "execution_count": 121,
   "metadata": {},
   "outputs": [],
   "source": [
    "link_count=0\n",
    "for index,row in names_re_orderd.iterrows():\n",
    "    source1_type = row[\"source1_name\"].split(\"-\")[-4]\n",
    "    source2_type = row[\"source2_name\"].split(\"-\")[-4]\n",
    "    if(source1_type == source2_type):\n",
    "        links.loc[link_count] = row\n",
    "        link_count+=1"
   ]
  },
  {
   "cell_type": "code",
   "execution_count": 125,
   "metadata": {},
   "outputs": [],
   "source": [
    "#Write the prepared links to a CSV file, There are some links that have been removed they are to be added by hand\n",
    "links.to_csv(root_folder+outputFileName,index=\"false\")"
   ]
  }
 ],
 "metadata": {
  "kernelspec": {
   "display_name": "Python 3",
   "language": "python",
   "name": "python3"
  },
  "language_info": {
   "codemirror_mode": {
    "name": "ipython",
    "version": 3
   },
   "file_extension": ".py",
   "mimetype": "text/x-python",
   "name": "python",
   "nbconvert_exporter": "python",
   "pygments_lexer": "ipython3",
   "version": "3.6.5"
  }
 },
 "nbformat": 4,
 "nbformat_minor": 2
}

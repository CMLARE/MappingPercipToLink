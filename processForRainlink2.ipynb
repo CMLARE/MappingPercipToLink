{
 "cells": [
  {
   "cell_type": "code",
   "execution_count": 8,
   "metadata": {},
   "outputs": [],
   "source": [
    "import pandas as pd\n",
    "import os\n",
    "from shutil import copy\n",
    "import geopy.distance"
   ]
  },
  {
   "cell_type": "code",
   "execution_count": 9,
   "metadata": {},
   "outputs": [],
   "source": [
    "data_root = \"/home/gayan/Desktop/CMLARE/Data\"\n",
    "unprocessed_folder = \"2018-05-08 to 2018-05-15\"\n",
    "processed_folder = data_root+\"/Processed/selected/\"+unprocessed_folder #Output folder for each file\n",
    "links_file= data_root+\"/Master Files\"+\"/links.csv\"  #List of the selected links\n",
    "\n",
    "processed_file = data_root+\"/Processed/\"+unprocessed_folder + \"_rainlink.csv\"\n",
    "rootUnprocessed_folder = data_root+\"/Un Processed/\"\n",
    "unprocessed_folder = rootUnprocessed_folder + unprocessed_folder\n",
    "\n",
    "test_file = unprocessed_folder+\"/PM_IG30028_15_201805050000_01.csv\""
   ]
  },
  {
   "cell_type": "code",
   "execution_count": 10,
   "metadata": {},
   "outputs": [],
   "source": [
    "link_data = []\n",
    "links = []\n",
    "#test_file = processed_folder+\"/PM_IG30028_15_201803180000_01.csv\"\n",
    "\n",
    "mapped_links_field_names = [\"cell_tower_id1\",\"cell_tower_id2\",\"source1_name\",\"source2_name\", \"district1\",\"district2\",\n",
    "                            \"latitude1\",\"latitude2\",\"longitude1\",\"longitude2\",\"nearest_precip_station\",\"distance\",\n",
    "                            \"nearest_precip_lat\",\"nearest_precip_long\",\"id_1\",\"id_2\",\"PathLength\",\"frequency1\",\"frequency2\",\"frequency_band\"]\n",
    "\n",
    "link_data_field_names = [\"DeviceID\",\"DeviceName\",\"ResourceID\",\"ResourceName\",\"CollectionTime\",\"GranularityPeriod\",\"RSL_MAX\",\"RSL_MIN\",\"RSL_AVG\",\"RSL_CUR\",\"TLHTT\",\"TLLTT\",\"TSL_MAX\",\"TSL_MIN\",\"TSL_AVG\",\"TSL_CUR\",\"RLHTT\",\"RLLTT\",\"ATPC_N_ADJUST\",\"ATPC_P_ADJUST\",\"ODU_SSV_TH\"]\n",
    "\n",
    "processed_data_all = []\n",
    "processed_file_field_names = [\"ID\",\"Pmax\",\"Pmin\",\"XStart\",\"YStart\",\"XEnd\",\"YEnd\",\"DateTime\",\"PathLength\",\"Frequency\"]"
   ]
  },
  {
   "cell_type": "code",
   "execution_count": 11,
   "metadata": {},
   "outputs": [],
   "source": [
    "directory = os.listdir(unprocessed_folder)\n",
    "correct_files = []\n",
    "for file in directory:\n",
    "    splitted_name = file.split(\"_\")[1]      \n",
    "    if(splitted_name.endswith(\"28\")):\n",
    "        correct_files.append(file)\n",
    "for file in correct_files:\n",
    "    if not os.path.exists(processed_folder):\n",
    "        os.makedirs(processed_folder)\n",
    "    copy(src=unprocessed_folder+\"/\"+file,dst=processed_folder)"
   ]
  },
  {
   "cell_type": "code",
   "execution_count": 12,
   "metadata": {},
   "outputs": [],
   "source": [
    "links = pd.read_csv(links_file)"
   ]
  },
  {
   "cell_type": "code",
   "execution_count": 13,
   "metadata": {},
   "outputs": [],
   "source": [
    "def calcPathLength(processed_data):\n",
    "#     print(processed_data)\n",
    "    start_cord = (processed_data[\"XStart\"],processed_data[\"YStart\"])\n",
    "    end_cord = (processed_data[\"XEnd\"],processed_data[\"YEnd\"])\n",
    "    return geopy.distance.vincenty(start_cord, end_cord).km\n",
    "def formatDate(processed_data):\n",
    "    return processed_data[\"DateTime\"].replace(\"-\",\"\").replace(\" \",\"\").replace(\":\",\"\")[:-2]"
   ]
  },
  {
   "cell_type": "code",
   "execution_count": 14,
   "metadata": {},
   "outputs": [],
   "source": [
    "def process_file(data_file):\n",
    "    global link_data\n",
    "    link_data_df = pd.read_csv(data_file, skiprows=1)\n",
    "    leftMerge = links.merge(link_data_df, left_on=links[\"source1_name\"],right_on=link_data_df[\"ResourceName\"],how=\"left\")\n",
    "    leftMerge = leftMerge.drop(columns = [\"key_0\"])\n",
    "    rightMerge = leftMerge.merge(link_data_df, left_on=leftMerge[\"source2_name\"],right_on=link_data_df[\"ResourceName\"],how=\"left\")\n",
    "    rightMerge.dropna(subset=[\"ResourceName_x\"])\n",
    "    source1Data = rightMerge[[\"frequency_band\",\"CollectionTime_x\",\"RSL_MIN_x\",\"RSL_MAX_x\",\"latitude1\",\"longitude1\",\"latitude2\",\"longitude2\",\"Id_1\"]]\n",
    "    source1Data = source1Data.rename(columns={\"frequency_band\":\"Frequency\",\"CollectionTime_x\" :\"DateTime\",\"RSL_MIN_x\":\"Pmin\",\"RSL_MAX_x\":\"Pmax\",\"latitude1\":\"XStart\",\"longitude1\":\"YStart\",\"latitude2\":\"XEnd\",\"longitude2\":\"YEnd\",\"Id_1\":\"ID\"})\n",
    "    source2Data = rightMerge[[\"frequency_band\",\"CollectionTime_y\",\"RSL_MIN_y\",\"RSL_MAX_y\",\"latitude2\",\"longitude2\",\"latitude1\",\"longitude1\",\"Id_2\"]]\n",
    "    source2Data = source2Data.rename(columns={\"frequency_band\":\"Frequency\",\"CollectionTime_y\" :\"DateTime\",\"RSL_MIN_y\":\"Pmin\",\"RSL_MAX_y\":\"Pmax\",\"latitude2\":\"XStart\",\"longitude2\":\"YStart\",\"latitude1\":\"XEnd\",\"longitude1\":\"YEnd\",\"Id_2\":\"ID\"})\n",
    "    data = pd.concat([source1Data,source2Data])\n",
    "    data = data.dropna()\n",
    "    data[\"PathLength\"] = data.apply (lambda row: calcPathLength (row),axis=1)\n",
    "    data[\"DateTime\"] = data.apply(lambda row: formatDate (row), axis=1)\n",
    "    link_data = pd.concat([link_data,data])"
   ]
  },
  {
   "cell_type": "code",
   "execution_count": 15,
   "metadata": {},
   "outputs": [],
   "source": [
    "def process_all():\n",
    "    global link_data\n",
    "    link_data = pd.DataFrame(columns=[\"Frequency\",\"DateTime\",\"Pmin\",\"Pmax\",\"XStart\",\"YStart\",\"XEnd\",\"YEnd\",\"ID\",\"PathLength\"])\n",
    "    directory = os.listdir(processed_folder)\n",
    "    directory = list(directory)\n",
    "    correct_file_paths = []\n",
    "    for file in directory:\n",
    "#         print(file)\n",
    "        correct_file_paths.append(str(processed_folder)+\"/\"+file)\n",
    "        process_file(str(processed_folder)+\"/\"+file)\n",
    "        print(\"process Successfull\")\n",
    "#     print(directory)\n"
   ]
  },
  {
   "cell_type": "code",
   "execution_count": null,
   "metadata": {},
   "outputs": [],
   "source": [
    "process_all()"
   ]
  },
  {
   "cell_type": "code",
   "execution_count": 17,
   "metadata": {},
   "outputs": [],
   "source": [
    "link_data.to_csv(processed_file)"
   ]
  }
 ],
 "metadata": {
  "kernelspec": {
   "display_name": "Python 3",
   "language": "python",
   "name": "python3"
  },
  "language_info": {
   "codemirror_mode": {
    "name": "ipython",
    "version": 3
   },
   "file_extension": ".py",
   "mimetype": "text/x-python",
   "name": "python",
   "nbconvert_exporter": "python",
   "pygments_lexer": "ipython3",
   "version": "3.6.5"
  }
 },
 "nbformat": 4,
 "nbformat_minor": 2
}

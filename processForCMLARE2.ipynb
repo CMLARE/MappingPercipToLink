{
 "cells": [
  {
   "cell_type": "code",
   "execution_count": 1,
   "metadata": {},
   "outputs": [],
   "source": [
    "import pandas as pd\n",
    "import os\n",
    "from shutil import copy\n",
    "import geopy.distance\n",
    "from math import log\n",
    "from decimal import Decimal"
   ]
  },
  {
   "cell_type": "code",
   "execution_count": 2,
   "metadata": {},
   "outputs": [],
   "source": [
    "data_root = \"/home/gayan/Desktop/CMLARE/Data\"\n",
    "unprocessed_folder = \"2018-05-08 to 2018-05-15\"\n",
    "processed_folder = data_root+\"/Processed/selected/\"+unprocessed_folder #Output folder for each file\n",
    "links_file= data_root+\"/Master Files\"+\"/mapped_links_precip.csv\"  #List of the selected links\n",
    "\n",
    "processed_file = data_root+\"/Processed/\"+unprocessed_folder + \".csv\"\n",
    "rootUnprocessed_folder = data_root+\"/Un Processed/\"\n",
    "unprocessed_folder = rootUnprocessed_folder + unprocessed_folder"
   ]
  },
  {
   "cell_type": "code",
   "execution_count": 3,
   "metadata": {},
   "outputs": [],
   "source": [
    "link_data = []\n",
    "links = []\n",
    "#test_file = processed_folder+\"/PM_IG30028_15_201803180000_01.csv\"\n",
    "processed_data_all = []"
   ]
  },
  {
   "cell_type": "code",
   "execution_count": 4,
   "metadata": {},
   "outputs": [],
   "source": [
    "directory = os.listdir(unprocessed_folder)\n",
    "correct_files = []\n",
    "for file in directory:\n",
    "    splitted_name = file.split(\"_\")[1]      \n",
    "    if(splitted_name.endswith(\"28\")):\n",
    "        correct_files.append(file)\n",
    "for file in correct_files:\n",
    "    if not os.path.exists(processed_folder):\n",
    "        os.makedirs(processed_folder)\n",
    "    copy(src=unprocessed_folder+\"/\"+file,dst=processed_folder)"
   ]
  },
  {
   "cell_type": "code",
   "execution_count": 5,
   "metadata": {},
   "outputs": [],
   "source": [
    "links = pd.read_csv(links_file)"
   ]
  },
  {
   "cell_type": "code",
   "execution_count": 6,
   "metadata": {},
   "outputs": [],
   "source": [
    "def calcPathLength(processed_data):\n",
    "#     print(processed_data)\n",
    "    start_cord = (processed_data[\"XStart\"],processed_data[\"YStart\"])\n",
    "    end_cord = (processed_data[\"XEnd\"],processed_data[\"YEnd\"])\n",
    "    return geopy.distance.vincenty(start_cord, end_cord).km\n",
    "# def formatDate(processed_data):\n",
    "#     return processed_data[\"DateTime\"].replace(\"-\",\"\").replace(\" \",\"\").replace(\":\",\"\")[:-2]\n",
    "def dBm_to_W(dBm):\n",
    "    power = 10 ** ((float(dBm)-30)/10)\n",
    "    return Decimal(power).to_eng_string()\n",
    "\n",
    "def W_to_dBm(power):\n",
    "    dBm = 30 + 10 * log(float(power), 10)\n",
    "    return (dBm)\n",
    "def calcAtt(row):\n",
    "    return Decimal(row[\"PTAvg\"]) - Decimal(row[\"PRAvg\"])\n",
    "def calcSLAttn(row):\n",
    "    return Decimal(row[\"RSL_AVG\"]) - Decimal(row[\"TSL_AVG\"])"
   ]
  },
  {
   "cell_type": "code",
   "execution_count": 7,
   "metadata": {},
   "outputs": [],
   "source": [
    "def process_file(data_file):\n",
    "    global link_data\n",
    "    link_data = pd.DataFrame(columns=[\"ID\",\"DateTime\",\"PrecipStation\",\"PRmax\",\"PRmin\",\"PTmin\",\"PTmax\",\"PRAvg\",\"PTAvg\",\"PAttAvg\",\"XStart\",\"YStart\",\"RSL_MIN\",\"RSL_MAX\",\"RSL_AVG\",\"TSL_MIN\",\"TSL_MAX\",\"TSL_AVG\",\"SLAttn\",\"XEnd\",\"YEnd\",\"PathLength\",\"distance\",\"Frequency\",\"FrequencyBand\"])\n",
    "#     data_file = processed_folder+\"/PM_IG30028_15_201805050000_01.csv\"\n",
    "    link_data_df = pd.read_csv(data_file, skiprows=1)\n",
    "    leftMerge = links.merge(link_data_df, left_on=links[\"source1_name\"],right_on=link_data_df[\"ResourceName\"],how=\"left\")\n",
    "    leftMerge = leftMerge.drop(columns = [\"key_0\"])\n",
    "    rightMerge = leftMerge.merge(link_data_df, left_on=leftMerge[\"source2_name\"],right_on=link_data_df[\"ResourceName\"],how=\"left\")\n",
    "    rightMerge.dropna(subset=[\"ResourceName_x\"])\n",
    "    source1Data = rightMerge[[\"id_1\",\"CollectionTime_x\",\"nearest_precip_station\",\"latitude1\",\"longitude1\",\"RSL_MIN_x\",\"RSL_MAX_x\",\"RSL_AVG_x\",\"TSL_MIN_y\",\"TSL_MAX_y\",\"TSL_AVG_y\",\"latitude2\",\"longitude2\",\"distance\",\"frequency2\",\"frequency_band\"]]\n",
    "    source2Data = rightMerge[[\"id_2\",\"CollectionTime_y\",\"nearest_precip_station\",\"latitude2\",\"longitude2\",\"RSL_MIN_y\",\"RSL_MAX_y\",\"RSL_AVG_y\",\"TSL_MIN_x\",\"TSL_MAX_x\",\"TSL_AVG_x\",\"latitude1\",\"longitude1\",\"distance\",\"frequency1\",\"frequency_band\"]]\n",
    "    source1Data = source1Data.rename(columns={\"id_1\" : \"ID\",\"CollectionTime_x\" : \"DateTime\",\"PrecipStation\":\"nearest_precip_station\",\"latitude1\" : \"XStart\",\"longitude1\" : \"YStart\",\"RSL_MIN_x\":\"RSL_MIN\",\"RSL_MAX_x\":\"RSL_MAX\",\"RSL_AVG_x\":\"RSL_AVG\",\"TSL_MIN_y\":\"TSL_MIN\",\"TSL_MAX_y\":\"TSL_MAX\",\"TSL_AVG_y\":\"TSL_AVG\",\"latitude2\":\"XEnd\",\"longitude2\": \"YEnd\",\"distance\":\"distance\",\"frequency2\":\"Frequency\",\"frequency_band\":\"FrequencyBand\"})\n",
    "    source2Data = source2Data.rename(columns={\"id_2\" : \"ID\",\"CollectionTime_y\" : \"DateTime\",\"PrecipStation\":\"nearest_precip_station\",\"latitude2\" : \"XStart\",\"longitude2\" : \"YStart\",\"RSL_MIN_y\":\"RSL_MIN\",\"RSL_MAX_y\":\"RSL_MAX\",\"RSL_AVG_y\":\"RSL_AVG\",\"TSL_MIN_x\":\"TSL_MIN\",\"TSL_MAX_x\":\"TSL_MAX\",\"TSL_AVG_x\":\"TSL_AVG\",\"latitude1\":\"XEnd\",\"longitude1\": \"YEnd\",\"distance\":\"distance\",\"frequency1\":\"Frequency\",\"frequency_band\":\"FrequencyBand\"})\n",
    "\n",
    "    # source1Data = rightMerge[[\"frequency_band\",\"CollectionTime_x\",\"RSL_MIN_x\",\"RSL_MAX_x\",\"RSL_AVG_x\",\"TSL_MIN_y\",\"TSL_MAX_y\",\"TSL_AVG_y\",\"frequency2\",\"latitude1\",\"longitude1\",\"latitude2\",\"longitude2\",\"Id_1\"]]\n",
    "    # source1Data = source1Data.rename(columns={\"frequency_band\":\"FrequencyBand\",\"frequency2\":\"Frequency\",\"CollectionTime_x\" :\"DateTime\",\"RSL_MIN_x\":\"Pmin\",\"RSL_MAX_x\":\"Pmax\",\"latitude1\":\"XStart\",\"longitude1\":\"YStart\",\"latitude2\":\"XEnd\",\"longitude2\":\"YEnd\",\"Id_1\":\"ID\"})\n",
    "    # source2Data = rightMerge[[\"frequency_band\",\"CollectionTime_y\",\"RSL_MIN_y\",\"RSL_MAX_y\",\"latitude2\",\"longitude2\",\"latitude1\",\"longitude1\",\"Id_2\"]]\n",
    "    # source2Data = source2Data.rename(columns={\"frequency_band\":\"FrequencyBand\",\"CollectionTime_y\" :\"DateTime\",\"RSL_MIN_y\":\"Pmin\",\"RSL_MAX_y\":\"Pmax\",\"latitude2\":\"XStart\",\"longitude2\":\"YStart\",\"latitude1\":\"XEnd\",\"longitude1\":\"YEnd\",\"Id_2\":\"ID\"})\n",
    "    data = pd.concat([source1Data,source2Data])\n",
    "    # data = data.dropna()\n",
    "    data[\"PathLength\"] = data.apply (lambda row: calcPathLength (row),axis=1)\n",
    "    data[\"PRmax\"] = data[\"RSL_MAX\"].apply(lambda row: dBm_to_W(row))\n",
    "    data[\"PRmin\"] = data[\"RSL_MIN\"].apply(lambda row: dBm_to_W(row))\n",
    "    data[\"PRAvg\"] = data[\"RSL_AVG\"].apply(lambda row: dBm_to_W(row))\n",
    "    data[\"PTmax\"] = data[\"TSL_MAX\"].apply(lambda row: dBm_to_W(row))\n",
    "    data[\"PTmin\"] = data[\"TSL_MIN\"].apply(lambda row: dBm_to_W(row))\n",
    "    data[\"PTAvg\"] = data[\"TSL_AVG\"].apply(lambda row: dBm_to_W(row))\n",
    "    data[\"PAttAvg\"] = data.apply(lambda row: calcAtt(row),axis=1)\n",
    "    data[\"SLAttn\"] = data.apply(lambda row: calcSLAttn(row),axis=1)\n",
    "\n",
    "    link_data = pd.concat([link_data,data])"
   ]
  },
  {
   "cell_type": "code",
   "execution_count": 8,
   "metadata": {},
   "outputs": [],
   "source": [
    "def process_all():\n",
    "    global link_data\n",
    "    link_data = pd.DataFrame(columns=[\"Frequency\",\"DateTime\",\"Pmin\",\"Pmax\",\"XStart\",\"YStart\",\"XEnd\",\"YEnd\",\"ID\",\"PathLength\"])\n",
    "    directory = os.listdir(processed_folder)\n",
    "    directory = list(directory)\n",
    "    correct_file_paths = []\n",
    "    for file in directory:\n",
    "#         print(file)\n",
    "        correct_file_paths.append(str(processed_folder)+\"/\"+file)\n",
    "        process_file(str(processed_folder)+\"/\"+file)\n",
    "        print(\"process Successfull\")\n",
    "#     print(directory)\n"
   ]
  },
  {
   "cell_type": "code",
   "execution_count": null,
   "metadata": {},
   "outputs": [],
   "source": [
    "process_all()"
   ]
  },
  {
   "cell_type": "code",
   "execution_count": null,
   "metadata": {},
   "outputs": [],
   "source": [
    "link_data.to_csv(processed_file)"
   ]
  }
 ],
 "metadata": {
  "kernelspec": {
   "display_name": "Python 3",
   "language": "python",
   "name": "python3"
  },
  "language_info": {
   "codemirror_mode": {
    "name": "ipython",
    "version": 3
   },
   "file_extension": ".py",
   "mimetype": "text/x-python",
   "name": "python",
   "nbconvert_exporter": "python",
   "pygments_lexer": "ipython3",
   "version": "3.6.5"
  }
 },
 "nbformat": 4,
 "nbformat_minor": 2
}

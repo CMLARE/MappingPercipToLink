{
 "cells": [
  {
   "cell_type": "code",
   "execution_count": 6,
   "metadata": {},
   "outputs": [],
   "source": [
    "#Set Path to mapped_links. This file is precalculated by apping the links to each other.\n",
    "#Set target path name for the output as link_ids_near_precip_csv     \n",
    "#(This is the output, this will all the links mapped with the given maximum perpendicular distance)\n",
    "#Set the precipitation device list path to [precip_devices_csv_file]"
   ]
  },
  {
   "cell_type": "code",
   "execution_count": 23,
   "metadata": {},
   "outputs": [],
   "source": [
    "import pandas as pd\n",
    "import numpy as np\n",
    "from numpy import ones,vstack\n",
    "from numpy.linalg import lstsq\n",
    "import math\n",
    "import csv\n",
    "import geopy.distance\n",
    "import geopy.point"
   ]
  },
  {
   "cell_type": "code",
   "execution_count": 42,
   "metadata": {},
   "outputs": [],
   "source": [
    "root_folder = \"/home/gayan/Desktop/CMLARE/Data/Master Files/\"\n",
    "mapped_links_csv_file = root_folder +  \"mapped_links.csv\"\n",
    "link_ids_near_precip_csv = root_folder + \"mapped_links_precip\"\n",
    "precip_devices_csv_file = root_folder + \"precipitaion_stations_curw.csv\"\n",
    "mapped_links_field_names = [\"cell_tower_id1\",\"cell_tower_id2\",\"source1_name\",\"source2_name\",\"device_name_1\",\"device_name_2\",\n",
    "                            \"frequency1\",\"frequency2\",\"frequency_band\",\"latitude1\",\"longitude1\",\"latitude2\",\"longitude2\",\n",
    "                            \"district1\",\"district2\",\"id_1\",\"id_2\"]\n",
    "formatted_links_field_names = [\"cell_tower_id1\",\"cell_tower_id2\",\"source1_name\",\"source2_name\", \"district1\",\"district2\",\n",
    "                            \"latitude1\",\"latitude2\",\"longitude1\",\"longitude2\",\"nearest_precip_station\",\"distance\",\n",
    "                            \"nearest_precip_lat\",\"nearest_precip_long\",\"id_1\",\"id_2\",\"PathLength\",\"frequency1\",\"frequency2\",\"frequency_band\"]\n",
    "mapped_links_near_precip = []\n",
    "precip_devices_field_names = [\"name\",\"lat\",\"long\",\"threshold\"]\n",
    "# maximum_perpendicular_distance = 10\n",
    "link_ids_near_precip_csv = link_ids_near_precip_csv + \".csv\""
   ]
  },
  {
   "cell_type": "code",
   "execution_count": 45,
   "metadata": {},
   "outputs": [],
   "source": [
    "def calc_equation(lat1, lang1, lat2, lang2):\n",
    "    points = [(lat1, lang1), (lat2,lang2)]\n",
    "    x_coords, y_coords = zip(*points)\n",
    "    A = vstack([x_coords, ones(len(x_coords))]).T\n",
    "    m, c = lstsq(A, y_coords)[0]\n",
    "    return m,c\n",
    "\n",
    "def calc_distance(lat1, lang1, lat2, lang2,lat_precip,long_precip):\n",
    "\n",
    "    lat1= float(lat1)\n",
    "    lat2 = float(lat2)\n",
    "    lang1 = float(lang1)\n",
    "    lang2 = float(lang2)\n",
    "    start_cord = (lat_precip,long_precip)\n",
    "    mid_point = ((lat1+lat2)/2,(lang1+lang2)/2)\n",
    "    distance = geopy.distance.vincenty(start_cord, mid_point).km\n",
    "    return distance\n",
    "def path_distance(lat1,lang1,lat2,lang2):\n",
    "    lat1= float(lat1)\n",
    "    lat2 = float(lat2)\n",
    "    lang1 = float(lang1)\n",
    "    lang2 = float(lang2)\n",
    "    start = (lat1,lang1)\n",
    "    end = (lat2,lang2)\n",
    "    return geopy.distance.vincenty(start, end).km    "
   ]
  },
  {
   "cell_type": "code",
   "execution_count": 46,
   "metadata": {
    "scrolled": true
   },
   "outputs": [],
   "source": [
    "precip_devices = []\n",
    "with open(precip_devices_csv_file,\"r\") as precip_devices_csv:\n",
    "    precip_devices_dict = csv.DictReader(precip_devices_csv,fieldnames=precip_devices_field_names)\n",
    "    next(precip_devices_dict)\n",
    "    for precip_device in precip_devices_dict:\n",
    "        prep = {}\n",
    "        prep['name'] = precip_device['name']\n",
    "        prep['lat'] = float(precip_device['lat'])\n",
    "        prep['long'] = float(precip_device['long'])\n",
    "        prep[\"threshold\"] = float(precip_device[\"threshold\"])\n",
    "        precip_devices.append(prep)\n",
    "with open(mapped_links_csv_file,\"r\") as mapped_links_csv:\n",
    "    mapped_links = csv.DictReader(mapped_links_csv, fieldnames=mapped_links_field_names)\n",
    "    next(mapped_links)\n",
    "    for link in mapped_links:\n",
    "        for precip_device in precip_devices:\n",
    "            mapped_link = {}\n",
    "            distance = calc_distance(link[\"latitude1\"],link[\"longitude1\"],link[\"latitude2\"],link[\"longitude2\"],precip_device[\"lat\"],precip_device[\"long\"])\n",
    "            if(distance<=precip_device[\"threshold\"]):\n",
    "                mapped_link[\"distance\"] = distance\n",
    "                mapped_link[\"nearest_precip_station\"] = precip_device[\"name\"]\n",
    "                mapped_link[\"nearest_precip_lat\"] = precip_device[\"lat\"]\n",
    "                mapped_link[\"nearest_precip_long\"] = precip_device[\"long\"]\n",
    "                mapped_link[\"PathLength\"] = path_distance(link[\"latitude1\"],link[\"longitude1\"],link[\"latitude2\"],link[\"longitude2\"])\n",
    "                mapped_link[\"frequency1\"] = link[\"frequency1\"]\n",
    "                mapped_link[\"frequency2\"] = link[\"frequency2\"]\n",
    "                mapped_link[\"cell_tower_id1\"] = link[\"cell_tower_id1\"]\n",
    "                mapped_link[\"cell_tower_id2\"] = link[\"cell_tower_id2\"]\n",
    "                mapped_link[\"source1_name\"] = link[\"source1_name\"]\n",
    "                mapped_link[\"source2_name\"] = link[\"source2_name\"]\n",
    "                mapped_link[\"latitude1\"] = link[\"latitude1\"]\n",
    "                mapped_link[\"latitude2\"] = link[\"latitude2\"]\n",
    "                mapped_link[\"longitude1\"] = link[\"longitude1\"]\n",
    "                mapped_link[\"longitude2\"] = link[\"longitude2\"]\n",
    "                mapped_link[\"frequency_band\"] = link[\"frequency_band\"]\n",
    "                mapped_link[\"district1\"] = link[\"district1\"]\n",
    "                mapped_link[\"district2\"] = link[\"district2\"]\n",
    "                mapped_link[\"id_1\"] = link[\"id_1\"]\n",
    "                mapped_link[\"id_2\"] = link[\"id_2\"]\n",
    "                mapped_links_near_precip.append(mapped_link)\n",
    "                break\n",
    "    with open(link_ids_near_precip_csv,\"w\") as processed_file_csv:\n",
    "        dictionary_writer = csv.DictWriter(processed_file_csv,formatted_links_field_names)\n",
    "        dictionary_writer.writeheader()\n",
    "        mapped_links_near_precip = [dict(t) for t in set([tuple(d.items()) for d in mapped_links_near_precip])]\n",
    "        mapped_links_near_precip_sorted = sorted(mapped_links_near_precip , key=lambda k: k['nearest_precip_station'])\n",
    "        dictionary_writer.writerows(mapped_links_near_precip_sorted)"
   ]
  },
  {
   "cell_type": "code",
   "execution_count": null,
   "metadata": {},
   "outputs": [],
   "source": []
  }
 ],
 "metadata": {
  "kernelspec": {
   "display_name": "Python 3",
   "language": "python",
   "name": "python3"
  },
  "language_info": {
   "codemirror_mode": {
    "name": "ipython",
    "version": 3
   },
   "file_extension": ".py",
   "mimetype": "text/x-python",
   "name": "python",
   "nbconvert_exporter": "python",
   "pygments_lexer": "ipython3",
   "version": "3.6.5"
  }
 },
 "nbformat": 4,
 "nbformat_minor": 2
}
